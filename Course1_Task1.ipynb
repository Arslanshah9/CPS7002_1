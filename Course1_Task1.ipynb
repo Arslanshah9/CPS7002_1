{
  "nbformat": 4,
  "nbformat_minor": 0,
  "metadata": {
    "colab": {
      "provenance": [],
      "authorship_tag": "ABX9TyNjeiO2QZOdkZmA/L7lekx7",
      "include_colab_link": true
    },
    "kernelspec": {
      "name": "python3",
      "display_name": "Python 3"
    },
    "language_info": {
      "name": "python"
    }
  },
  "cells": [
    {
      "cell_type": "markdown",
      "metadata": {
        "id": "view-in-github",
        "colab_type": "text"
      },
      "source": [
        "<a href=\"https://colab.research.google.com/github/Arslanshah9/CPS7002_1/blob/main/Course1_Task1.ipynb\" target=\"_parent\"><img src=\"https://colab.research.google.com/assets/colab-badge.svg\" alt=\"Open In Colab\"/></a>"
      ]
    },
    {
      "cell_type": "code",
      "metadata": {
        "id": "8f94c3cf"
      },
      "source": [
        "# Add product information\n",
        "product_name = \"Laptop\"\n",
        "stock_units = 10\n",
        "price = 851.50\n",
        "in_stock = True\n",
        "\n",
        "# Calculate total price and print all info\n",
        "total_price = stock_units * price\n",
        "print(\"Product Name: \", product_name)\n",
        "print(\"Number of units available: \", stock_units)\n",
        "print(\"Price: £\", price)\n",
        "print(\"In Stock: \", in_stock)\n",
        "print(\"Total price of all inventory: £\", total_price)\n",
        "\n",
        "# Add 5 more units, calculate total price again\n",
        "stock_units = stock_units + 5\n",
        "total_price = stock_units * price\n",
        "\n",
        "print(\"\\n\")\n",
        "print(\"After updating the inventory with 5 more items\")\n",
        "print(\"Product Name: \", product_name)\n",
        "print(\"Number of units available: \", stock_units)\n",
        "print(\"Price: £\", price)\n",
        "print(\"In Stock: \", in_stock)\n",
        "print(\"Total price of all inventory: £\", total_price)\n",
        "\n",
        "# Check if product is in stock\n",
        "print(\"\\n\")\n",
        "if (stock_units > 0):\n",
        "  print(\"Product is in stock\")\n",
        "else:\n",
        "  print(\"Product is out of stock\");"
      ],
      "execution_count": null,
      "outputs": []
    },
    {
      "cell_type": "code",
      "source": [],
      "metadata": {
        "id": "5CA_me_HMHHd"
      },
      "execution_count": null,
      "outputs": []
    },
    {
      "cell_type": "code",
      "metadata": {
        "id": "5dfe505b"
      },
      "source": [
        "# Create employee & company Information\n",
        "employee_name = \"Jonathan Collins\"\n",
        "employee_id = 101\n",
        "salary = 50000\n",
        "is_active = True\n",
        "departments = [\"HR\", \"Finance\", \"IT\", \"Marketing\"]\n",
        "\n",
        "# Add 5000 to the salary\n",
        "bonus = 5000\n",
        "salary += bonus\n",
        "\n",
        "# Add another employee and check if name matches\n",
        "new_employee = \"Jonathan Collins\"\n",
        "print(employee_name is new_employee)\n",
        "# if (employee_name == new_employee):\n",
        "#   print(\"Employee name matches\")\n",
        "# else:\n",
        "#   print(\"Employee name does not match\")\n",
        "\n",
        "# Check if IT dept is in the list and check if Sales is not in the list\n",
        "print(\"IT\" in departments)\n",
        "print(\"Sales\" not in departments)\n",
        "\n",
        "\n",
        "# Employee_code 10 needs to be converted into binary. access_code of 12 needs to be converted into binary​\n",
        "employee_code = 10\n",
        "access_code = 12\n",
        "\n",
        "employee_binary = bin(employee_code)\n",
        "access_binary = bin(access_code)\n",
        "print(\"Employee Code in binary: \", employee_binary)\n",
        "print(\"Access Code in binary: \", access_binary)\n",
        "\n",
        "# Perform bitwise operations\n",
        "op_and = employee_code & access_code\n",
        "op_or = employee_code | access_code\n",
        "op_xor = employee_code ^ access_code\n",
        "op_not_employee = ~employee_code\n",
        "op_not_access = ~access_code\n",
        "\n",
        "# Print results in decimal and binary\n",
        "print(f\"Bitwise AND:\")\n",
        "print(f\"  Decimal: {op_and}\")\n",
        "print(f\"  Binary: {bin(op_and)}\")\n",
        "print(\"\\n\")\n",
        "\n",
        "print(f\"Bitwise OR:\")\n",
        "print(f\"  Decimal: {op_or}\")\n",
        "print(f\"  Binary: {bin(op_or)}\")\n",
        "print(\"\\n\")\n",
        "\n",
        "print(f\"Bitwise XOR:\")\n",
        "print(f\"  Decimal: {op_xor}\")\n",
        "print(f\"  Binary: {bin(op_xor)}\")\n",
        "print(\"\\n\")\n",
        "\n",
        "print(f\"Bitwise NOT (employee_code):\")\n",
        "print(f\"  Decimal: {op_not_employee}\")\n",
        "print(f\"  Binary: {bin(op_not_employee)}\")\n",
        "print(\"\\n\")\n",
        "\n",
        "print(f\"Bitwise NOT (access_code):\")\n",
        "print(f\"  Decimal: {op_not_access}\")\n",
        "print(f\"  Binary: {bin(op_not_access)}\")\n",
        "\n",
        "\n",
        "# Display the employee's name, ID, updated salary, active status, and the list of departments​\n",
        "print(\"\\n\")\n",
        "print(\"Employee Name: \", employee_name)\n",
        "print(\"Employee ID: \", employee_id)\n",
        "print(\"Updated Salary: £\", salary)\n",
        "print(\"Active Status: \", is_active)\n",
        "print(\"Departments: \", departments)\n",
        "\n",
        "\n"
      ],
      "execution_count": null,
      "outputs": []
    },
    {
      "cell_type": "code",
      "metadata": {
        "id": "67d2f932"
      },
      "source": [
        "# Define dictionary\n",
        "students = {\"Amanda Jackson\": 85,\n",
        "            \"Robert Culp\": 92,\n",
        "            \"Charles Bronson\": 78\n",
        "            }\n",
        "# Prompt for new student name and grade\n",
        "new_student_name = input(\"Enter the student's name: \")\n",
        "new_student_grade = int(input(\"Enter the student's grade: \"))\n",
        "\n",
        "# Add new entry to the dictionary\n",
        "students[new_student_name] = new_student_grade\n",
        "\n",
        "# Confirm addition\n",
        "print(f\"{new_student_name} with grade {new_student_grade} has been added to the dictionary.\")\n",
        "\n",
        "# Print out all the students names and grades\n",
        "print(students)"
      ],
      "execution_count": null,
      "outputs": []
    },
    {
      "cell_type": "code",
      "metadata": {
        "id": "d96da978"
      },
      "source": [
        "# Prompt the user to enter the salaries of employees, separated by spaces\n",
        "salaries_input = input(\"Enter the salaries of employees, separated by spaces: \")\n",
        "\n",
        "# Take the input string and splits it into a list of strings\n",
        "salaries_list_str = salaries_input.split()\n",
        "\n",
        "# Convert each string in the list to an integer\n",
        "salaries_list_int = [int(salary) for salary in salaries_list_str]\n",
        "\n",
        "print(\"Employee salaries as integers:\", salaries_list_int)\n",
        "\n",
        "# Convert list of integers to a string representation\n",
        "salaries_string = str(salaries_list_int)\n",
        "\n",
        "# Print a readable string representation of the salaries\n",
        "print(\"Employee salaries as a string:\", salaries_list_str)"
      ],
      "execution_count": null,
      "outputs": []
    },
    {
      "cell_type": "code",
      "metadata": {
        "id": "a3b92d67"
      },
      "source": [
        "# Prompt user to enter the number of employees\n",
        "num_employees = int(input(\"Enter the number of employees: \"))\n",
        "\n",
        "# Use a for loop to collect the names and salaries of the employees\n",
        "employees = []\n",
        "for i in range(num_employees):\n",
        "  name = input(f\"Enter the name for employee {i+1}: \")\n",
        "  salary = float(input(f\"Enter the salary for employee {i+1}: \"))\n",
        "  employees.append({\"name\": name, \"salary\": salary})\n",
        "\n",
        "# Print a header row\n",
        "print(\"\\n\")\n",
        "print(\"{:<20} {:<10}\".format(\"Employee Name\", \"Salary\"))\n",
        "print(\"-\" * 30)\n",
        "\n",
        "# Print each employee's name and salary in a well-formatted table\n",
        "for employee in employees:\n",
        "  print(\"{:<20} {:<10}\".format(employee[\"name\"], employee[\"salary\"]))"
      ],
      "execution_count": null,
      "outputs": []
    }
  ]
}