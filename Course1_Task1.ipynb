{
  "nbformat": 4,
  "nbformat_minor": 0,
  "metadata": {
    "colab": {
      "provenance": [],
      "authorship_tag": "ABX9TyPPYHbb3zHNXRMZ6XJJKYLv",
      "include_colab_link": true
    },
    "kernelspec": {
      "name": "python3",
      "display_name": "Python 3"
    },
    "language_info": {
      "name": "python"
    }
  },
  "cells": [
    {
      "cell_type": "markdown",
      "metadata": {
        "id": "view-in-github",
        "colab_type": "text"
      },
      "source": [
        "<a href=\"https://colab.research.google.com/github/Arslanshah9/CPS7002_1/blob/main/Course1_Task1.ipynb\" target=\"_parent\"><img src=\"https://colab.research.google.com/assets/colab-badge.svg\" alt=\"Open In Colab\"/></a>"
      ]
    },
    {
      "cell_type": "code",
      "execution_count": null,
      "metadata": {
        "colab": {
          "base_uri": "https://localhost:8080/"
        },
        "id": "NIbJk6a2EwZV",
        "outputId": "796f17cf-a850-40cb-96e5-29f4f93d2e3d"
      },
      "outputs": [
        {
          "output_type": "stream",
          "name": "stdout",
          "text": [
            "Hello World!\n"
          ]
        }
      ],
      "source": [
        "print(\"Hello World!zzz\")"
      ]
    },
    {
      "cell_type": "code",
      "metadata": {
        "colab": {
          "base_uri": "https://localhost:8080/"
        },
        "id": "8f94c3cf",
        "outputId": "87164caa-b611-47e7-e32f-c7c15b7f32b1"
      },
      "source": [
        "# Add product information\n",
        "product_name = \"Laptop\"\n",
        "stock_units = 10\n",
        "price = 851.50\n",
        "in_stock = True\n",
        "\n",
        "# Calculate total price and print all info\n",
        "total_price = stock_units * price\n",
        "print(\"Product Name: \", product_name)\n",
        "print(\"Number of units available: \", stock_units)\n",
        "print(\"Price: £\", price)\n",
        "print(\"In Stock: \", in_stock)\n",
        "print(\"Total price of all inventory: £\", total_price)\n",
        "\n",
        "# Add 5 more units, calculate total price again\n",
        "stock_units = stock_units + 5\n",
        "total_price = stock_units * price\n",
        "\n",
        "print(\"\\n\")\n",
        "print(\"After updating the inventory with 5 more items\")\n",
        "print(\"Product Name: \", product_name)\n",
        "print(\"Number of units available: \", stock_units)\n",
        "print(\"Price: £\", price)\n",
        "print(\"In Stock: \", in_stock)\n",
        "print(\"Total price of all inventory: £\", total_price)\n",
        "\n",
        "# Check if product is in stock\n",
        "print(\"\\n\")\n",
        "if (stock_units > 0):\n",
        "  print(\"Product is in stock\")\n",
        "else:\n",
        "  print(\"Product is out of stock\");"
      ],
      "execution_count": 37,
      "outputs": [
        {
          "output_type": "stream",
          "name": "stdout",
          "text": [
            "Product Name:  Laptop\n",
            "Number of units available:  10\n",
            "Price: £ 851.5\n",
            "In Stock:  True\n",
            "Total price of all inventory: £ 8515.0\n",
            "\n",
            "\n",
            "After updating the inventory with 5 more items\n",
            "Product Name:  Laptop\n",
            "Number of units available:  15\n",
            "Price: £ 851.5\n",
            "In Stock:  True\n",
            "Total price of all inventory: £ 12772.5\n",
            "\n",
            "\n",
            "Product is in stock\n"
          ]
        }
      ]
    },
    {
      "cell_type": "code",
      "source": [],
      "metadata": {
        "id": "5CA_me_HMHHd"
      },
      "execution_count": null,
      "outputs": []
    },
    {
      "cell_type": "code",
      "metadata": {
        "colab": {
          "base_uri": "https://localhost:8080/"
        },
        "id": "5dfe505b",
        "outputId": "f443e4b1-77f6-4c7e-c5e7-d9db0455dc81"
      },
      "source": [
        "# Create employee & company Information\n",
        "employee_name = \"Jonathan Collins\"\n",
        "employee_id = 101\n",
        "salary = 50000\n",
        "is_active = True\n",
        "departments = [\"HR\", \"Finance\", \"IT\", \"Marketing\"]\n",
        "\n",
        "# Add 5000 to the salary\n",
        "salary = salary + 5000\n",
        "\n",
        "# Add another employee and check if name matches\n",
        "new_employee = \"Jonathan Collins\"\n",
        "if (employee_name == new_employee):\n",
        "  print(\"Employee name matches\")\n",
        "else:\n",
        "  print(\"Employee name does not match\")\n",
        "\n",
        "# Check if IT dept is in the list and check if Sales is not in the list\n",
        "if (\"IT\" in departments):\n",
        "  print(\"IT department is in the list\")\n",
        "else:\n",
        "  print(\"IT department is not in the list\")\n",
        "if (\"Sales\" not in departments):\n",
        "  print(\"Sales department is not in the list\")\n",
        "else:\n",
        "  print(\"Sales department is in the list\")\n",
        "\n",
        "\n",
        "# Employee_code 10 needs to be converted into binary. access_code of 12 needs to be converted into binary​\n",
        "employee_code = 10\n",
        "access_code = 12\n",
        "\n",
        "employee_binary = bin(employee_code)\n",
        "access_binary = bin(access_code)\n",
        "print(\"Employee Code in binary: \", employee_binary)\n",
        "print(\"Access Code in binary: \", access_binary)\n",
        "\n",
        "# Perform bitwise operations\n",
        "op_and = employee_code & access_code\n",
        "op_or = employee_code | access_code\n",
        "op_xor = employee_code ^ access_code\n",
        "op_not_employee = ~employee_code\n",
        "op_not_access = ~access_code\n",
        "\n",
        "# Print results in decimal and binary\n",
        "print(f\"Bitwise AND:\")\n",
        "print(f\"  Decimal: {op_and}\")\n",
        "print(f\"  Binary: {bin(op_and)}\")\n",
        "print(\"\\n\")\n",
        "\n",
        "print(f\"Bitwise OR:\")\n",
        "print(f\"  Decimal: {op_or}\")\n",
        "print(f\"  Binary: {bin(op_or)}\")\n",
        "print(\"\\n\")\n",
        "\n",
        "print(f\"Bitwise XOR:\")\n",
        "print(f\"  Decimal: {op_xor}\")\n",
        "print(f\"  Binary: {bin(op_xor)}\")\n",
        "print(\"\\n\")\n",
        "\n",
        "print(f\"Bitwise NOT (employee_code):\")\n",
        "print(f\"  Decimal: {op_not_employee}\")\n",
        "print(f\"  Binary: {bin(op_not_employee)}\")\n",
        "print(\"\\n\")\n",
        "\n",
        "print(f\"Bitwise NOT (access_code):\")\n",
        "print(f\"  Decimal: {op_not_access}\")\n",
        "print(f\"  Binary: {bin(op_not_access)}\")\n",
        "\n",
        "\n",
        "# Display the employee's name, ID, updated salary, active status, and the list of departments​\n",
        "print(\"\\n\")\n",
        "print(\"Employee Name: \", employee_name)\n",
        "print(\"Employee ID: \", employee_id)\n",
        "print(\"Updated Salary: £\", salary)\n",
        "print(\"Active Status: \", is_active)\n",
        "print(\"Departments: \", departments)\n",
        "\n",
        "\n"
      ],
      "execution_count": 36,
      "outputs": [
        {
          "output_type": "stream",
          "name": "stdout",
          "text": [
            "Employee name matches\n",
            "IT department is in the list\n",
            "Sales department is not in the list\n",
            "Employee Code in binary:  0b1010\n",
            "Access Code in binary:  0b1100\n",
            "Bitwise AND:\n",
            "  Decimal: 8\n",
            "  Binary: 0b1000\n",
            "\n",
            "\n",
            "Bitwise OR:\n",
            "  Decimal: 14\n",
            "  Binary: 0b1110\n",
            "\n",
            "\n",
            "Bitwise XOR:\n",
            "  Decimal: 6\n",
            "  Binary: 0b110\n",
            "\n",
            "\n",
            "Bitwise NOT (employee_code):\n",
            "  Decimal: -11\n",
            "  Binary: -0b1011\n",
            "\n",
            "\n",
            "Bitwise NOT (access_code):\n",
            "  Decimal: -13\n",
            "  Binary: -0b1101\n",
            "\n",
            "\n",
            "Employee Name:  Jonathan Collins\n",
            "Employee ID:  101\n",
            "Updated Salary: £ 55000\n",
            "Active Status:  True\n",
            "Departments:  ['HR', 'Finance', 'IT', 'Marketing']\n"
          ]
        }
      ]
    },
    {
      "cell_type": "code",
      "metadata": {
        "id": "67d2f932"
      },
      "source": [],
      "execution_count": null,
      "outputs": []
    },
    {
      "cell_type": "code",
      "metadata": {
        "id": "a3b92d67"
      },
      "source": [],
      "execution_count": null,
      "outputs": []
    }
  ]
}